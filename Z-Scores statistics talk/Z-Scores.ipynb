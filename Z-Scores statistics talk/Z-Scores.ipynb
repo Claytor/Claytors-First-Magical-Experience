{
 "cells": [
  {
   "cell_type": "markdown",
   "id": "c5dde734",
   "metadata": {},
   "source": [
    "----------\n",
    "# Timmy-Too-Tall's Crash Course on Z-Scores.\n",
    "> An exploration of verticality for the quantified self.\n",
    "------------------"
   ]
  },
  {
   "cell_type": "markdown",
   "id": "6bad816d",
   "metadata": {},
   "source": [
    "## Problem"
   ]
  },
  {
   "cell_type": "markdown",
   "id": "970aba63",
   "metadata": {},
   "source": [
    "**Tim** is too tall.  This has often been explained to him by others. He **is** at-least **195.58 cm Tall**. Compared to him, many others seem quite small. How can Tim quanify his relative vertical stretch as a percentile of the distribution of heights for similarly-aged guys in the USA?  If the data follow the standard normal distribution model (and they do) we can use the **z-score** of Tim's height to mathematically explain his altitudinous appearance."
   ]
  },
  {
   "cell_type": "markdown",
   "id": "3f6ab29f",
   "metadata": {},
   "source": [
    "## Brief Literature Review"
   ]
  },
  {
   "cell_type": "markdown",
   "id": "49eed6e7",
   "metadata": {},
   "source": [
    "The the data of interest were acquired from a publication (Fryar et al., 2021) by the National Center for Health and Statistics (NCHS). NCHS is a division within the Centers for Disease Control and Prevention (CDC) which operates under the U.S. Department of Health and Human Services (DHHS)."
   ]
  },
  {
   "cell_type": "markdown",
   "id": "c5ff9502",
   "metadata": {},
   "source": [
    "According to NCHS observations, from the years 2015 - 2016 (n = 802), the mean age adjusted height for men aged 20 to 39 years in the US was **μ = 176.0 cm** with a standard deviation of *roughly* **σ = 8.5 cm.**"
   ]
  },
  {
   "cell_type": "markdown",
   "id": "2337c6ac",
   "metadata": {},
   "source": [
    "> Note: Liberties taken with actual σ for the purposes of demonstration. Variability in the data were stated as a standard error of measurement.  Conversion, while tempting, is beyond the scope of this demonstration."
   ]
  },
  {
   "cell_type": "markdown",
   "id": "748c2f47",
   "metadata": {},
   "source": [
    "## Where the Z-scores come in"
   ]
  },
  {
   "cell_type": "markdown",
   "id": "14a767fa",
   "metadata": {},
   "source": [
    "Z scores are a method of standardizing observations to determine preciceley how many standard deviations an observation is above or below the mean. This score can be used to describe the relative probablility of an observation occuring in context of the sample space."
   ]
  },
  {
   "cell_type": "code",
   "execution_count": 52,
   "id": "de5945dc",
   "metadata": {
    "scrolled": false
   },
   "outputs": [
    {
     "data": {
      "text/plain": [
       "Text(0.5, 1.0, 'z-score values are standard deviations from the mean. They also follow the 68-95-99.7 rule')"
      ]
     },
     "execution_count": 52,
     "metadata": {},
     "output_type": "execute_result"
    },
    {
     "data": {
      "image/png": "[encoded data removed]",
      "text/plain": [
       "<Figure size 432x288 with 1 Axes>"
      ]
     },
     "metadata": {
      "needs_background": "light"
     },
     "output_type": "display_data"
    }
   ],
   "source": [
    "import numpy as np\n",
    "import matplotlib.pyplot as plt\n",
    "from scipy.stats import norm\n",
    "x = np.arange(-3, 3, .001)\n",
    "plt.plot(x, norm.pdf(x, 0, 1))\n",
    "plt.vlines(x=[-3, -2, -1, 0, 1, 2, 3], ymin=[0], ymax=[0.0025, 0.05, .24, .40, .24, 0.05, 0.0025], colors='red', ls='--', lw=2,)\n",
    "plt.ylabel('Probablility')\n",
    "plt.xlabel('z-score')\n",
    "plt.title(\"z-score values are standard deviations from the mean. They also follow the 68-95-99.7 rule\")"
   ]
  },
  {
   "cell_type": "markdown",
   "id": "e688e7ee",
   "metadata": {},
   "source": [
    "x = observed value, μ = population mean, σ = population standard deviation \n",
    "> $$ z = \\frac{x - \\mu}{\\sigma} $$\n"
   ]
  },
  {
   "cell_type": "markdown",
   "id": "7de99660",
   "metadata": {},
   "source": [
    "Since we are given **μ = 176.0** and **σ = 8.5** as average height and standard deviation for a standard normal distribution, we can calculate the z-scores and associated probabilities for values that lie 3 standard deviations above and below the mean.\n",
    "> $$z = \\frac{x - 176.0}{8.5}$$"
   ]
  },
  {
   "cell_type": "markdown",
   "id": "2fdcc6c1",
   "metadata": {},
   "source": [
    "|         Observation | 150.5 cm | 159.0 cm | 167.5 cm | 176.0 cm | 184.5 cm | 193.0 cm | 201.5 cm |\n",
    "|--------------------:|:--------:|:--------:|:--------:|:--------:|:--------:|:--------:|:--------:|\n",
    "|             Z-Score |    -3    |    -2    |    -1    |     0    |     1    |     2    |     3    |\n",
    "| Standard Deviations |   σ - 3  |   σ - 2  |   σ - 1  |     σ    |   σ + 1  |   σ + 2  |   σ + 3  |\n",
    "|         Probability |   0.1%   |   2.3%   |   15.9%  |    50%   |   15.9%  |   2.3%   |   0.1%   |"
   ]
  },
  {
   "cell_type": "markdown",
   "id": "2af41cc9",
   "metadata": {},
   "source": [
    "## Neat . . . So what about Tim?"
   ]
  },
  {
   "cell_type": "markdown",
   "id": "9bbcec06",
   "metadata": {},
   "source": [
    "To finally solve the relative verticality of Tim, we can use the information above to estimate that his height, **195.58 cm**, is somewhere between two to three z-scores above the mean.  This means that, statistically, he is roughly as tall or taller than **97.7** to **99.9** percent of those in his age and gender demographic.  However, this leaves a 0.02% uncertainty with respect to his exact height percentile.   "
   ]
  },
  {
   "cell_type": "markdown",
   "id": "4f0975dd",
   "metadata": {},
   "source": [
    "To constrain the variability of that estimate. We can calculate an exact z-score for his height and reference that z-score's associated probability.\n",
    "> $$ \\frac{195.58 - 176.0}{8.5} = 2.304  $$"
   ]
  },
  {
   "cell_type": "markdown",
   "id": "84287264",
   "metadata": {},
   "source": [
    "The probability associated with the z-score 2.304 is 0.9894.  This indicates that Tim is as tall or taller than 98.94% of his cohort. This also helps to explain, in part, his tenuous relationship with overhead light fixtures."
   ]
  },
  {
   "cell_type": "markdown",
   "id": "ddde6747",
   "metadata": {},
   "source": [
    "## Citations"
   ]
  },
  {
   "cell_type": "markdown",
   "id": "fa4f8bf9",
   "metadata": {},
   "source": [
    "Fryar CD, Carroll MD, Gu Q, Afful J, Ogden CL. Anthropometric reference data for children\n",
    "and adults: United States, 2015–2018. \n",
    "*National Center for Health Statistics. Vital Health\n",
    "Stat 3(46). 2021.*\n",
    "**https://www.cdc.gov/nchs/data/nhsr/nhsr122-508.pdf**"
   ]
  }
 ],
 "metadata": {
  "kernelspec": {
   "display_name": "Python 3 (ipykernel)",
   "language": "python",
   "name": "python3"
  },
  "language_info": {
   "codemirror_mode": {
    "name": "ipython",
    "version": 3
   },
   "file_extension": ".py",
   "mimetype": "text/x-python",
   "name": "python",
   "nbconvert_exporter": "python",
   "pygments_lexer": "ipython3",
   "version": "3.9.12"
  }
 },
 "nbformat": 4,
 "nbformat_minor": 5
}
